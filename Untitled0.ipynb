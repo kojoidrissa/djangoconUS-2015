{
 "metadata": {
  "name": "",
  "signature": "sha256:e42c1d40b3ea8bce88b1f101e66ac35d6e57629e92bdc44e93b4226aea4d634c"
 },
 "nbformat": 3,
 "nbformat_minor": 0,
 "worksheets": []
}